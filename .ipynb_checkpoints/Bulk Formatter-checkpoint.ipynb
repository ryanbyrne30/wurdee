{
 "cells": [
  {
   "cell_type": "code",
   "execution_count": 1,
   "id": "fec2e471",
   "metadata": {},
   "outputs": [],
   "source": [
    "import pandas as pd\n",
    "import mysql.connector"
   ]
  },
  {
   "cell_type": "code",
   "execution_count": 6,
   "id": "aebd03b3",
   "metadata": {},
   "outputs": [],
   "source": [
    "word_if = \"/home/ryan/Downloads/Words - Words.csv\"\n",
    "word_of = \"words.json\"\n",
    "\n",
    "quote_if = \"/home/ryan/Downloads/Words - Quotes.csv\"\n",
    "quote_of = \"quote.json\"\n",
    "\n",
    "connection = \"mysql://localhost:3009/wurdee\""
   ]
  },
  {
   "cell_type": "code",
   "execution_count": 17,
   "id": "8e4893d3",
   "metadata": {},
   "outputs": [
    {
     "data": {
      "text/html": [
       "<div>\n",
       "<style scoped>\n",
       "    .dataframe tbody tr th:only-of-type {\n",
       "        vertical-align: middle;\n",
       "    }\n",
       "\n",
       "    .dataframe tbody tr th {\n",
       "        vertical-align: top;\n",
       "    }\n",
       "\n",
       "    .dataframe thead th {\n",
       "        text-align: right;\n",
       "    }\n",
       "</style>\n",
       "<table border=\"1\" class=\"dataframe\">\n",
       "  <thead>\n",
       "    <tr style=\"text-align: right;\">\n",
       "      <th></th>\n",
       "      <th>word</th>\n",
       "      <th>pos</th>\n",
       "      <th>definition</th>\n",
       "    </tr>\n",
       "  </thead>\n",
       "  <tbody>\n",
       "    <tr>\n",
       "      <th>318</th>\n",
       "      <td>Astrophile</td>\n",
       "      <td>noun</td>\n",
       "      <td>A person who loves stars</td>\n",
       "    </tr>\n",
       "    <tr>\n",
       "      <th>319</th>\n",
       "      <td>Opacarophile</td>\n",
       "      <td>noun</td>\n",
       "      <td>A person who loves sunsets</td>\n",
       "    </tr>\n",
       "    <tr>\n",
       "      <th>320</th>\n",
       "      <td>Anemoia</td>\n",
       "      <td>noun</td>\n",
       "      <td>nostalgia for a time you've never known</td>\n",
       "    </tr>\n",
       "    <tr>\n",
       "      <th>321</th>\n",
       "      <td>Kenopsia</td>\n",
       "      <td>noun</td>\n",
       "      <td>the eerie, forlorn atmosphere of a place that'...</td>\n",
       "    </tr>\n",
       "    <tr>\n",
       "      <th>322</th>\n",
       "      <td>Heartworm</td>\n",
       "      <td>noun</td>\n",
       "      <td>a relationship or friendship that you can't ge...</td>\n",
       "    </tr>\n",
       "  </tbody>\n",
       "</table>\n",
       "</div>"
      ],
      "text/plain": [
       "             word   pos                                         definition\n",
       "318    Astrophile  noun                           A person who loves stars\n",
       "319  Opacarophile  noun                         A person who loves sunsets\n",
       "320       Anemoia  noun            nostalgia for a time you've never known\n",
       "321      Kenopsia  noun  the eerie, forlorn atmosphere of a place that'...\n",
       "322     Heartworm  noun  a relationship or friendship that you can't ge..."
      ]
     },
     "execution_count": 17,
     "metadata": {},
     "output_type": "execute_result"
    }
   ],
   "source": [
    "word_df = pd.read_csv(word_if, names=['word', 'pos', 'definition']).dropna()\n",
    "word_df['pos'] = 'noun'\n",
    "word_df.to_json(word_of, orient='records')\n",
    "word_df.head()"
   ]
  },
  {
   "cell_type": "code",
   "execution_count": 12,
   "id": "0de7b72a",
   "metadata": {},
   "outputs": [
    {
     "data": {
      "text/html": [
       "<div>\n",
       "<style scoped>\n",
       "    .dataframe tbody tr th:only-of-type {\n",
       "        vertical-align: middle;\n",
       "    }\n",
       "\n",
       "    .dataframe tbody tr th {\n",
       "        vertical-align: top;\n",
       "    }\n",
       "\n",
       "    .dataframe thead th {\n",
       "        text-align: right;\n",
       "    }\n",
       "</style>\n",
       "<table border=\"1\" class=\"dataframe\">\n",
       "  <thead>\n",
       "    <tr style=\"text-align: right;\">\n",
       "      <th></th>\n",
       "      <th>source</th>\n",
       "      <th>quote</th>\n",
       "    </tr>\n",
       "  </thead>\n",
       "  <tbody>\n",
       "    <tr>\n",
       "      <th>0</th>\n",
       "      <td>Isaac Asimov</td>\n",
       "      <td>The saddest aspect of life right now is that s...</td>\n",
       "    </tr>\n",
       "    <tr>\n",
       "      <th>1</th>\n",
       "      <td>Albert Camus</td>\n",
       "      <td>I rebel; therefore I exist.</td>\n",
       "    </tr>\n",
       "    <tr>\n",
       "      <th>2</th>\n",
       "      <td>Victor Hugo</td>\n",
       "      <td>You who suffer because you love, love still mo...</td>\n",
       "    </tr>\n",
       "    <tr>\n",
       "      <th>3</th>\n",
       "      <td>Voltaire</td>\n",
       "      <td>God is a comedian playing to an audience too a...</td>\n",
       "    </tr>\n",
       "    <tr>\n",
       "      <th>4</th>\n",
       "      <td>John Lennon</td>\n",
       "      <td>Everything is going to be okay in the end, and...</td>\n",
       "    </tr>\n",
       "  </tbody>\n",
       "</table>\n",
       "</div>"
      ],
      "text/plain": [
       "         source                                              quote\n",
       "0  Isaac Asimov  The saddest aspect of life right now is that s...\n",
       "1  Albert Camus                        I rebel; therefore I exist.\n",
       "2   Victor Hugo  You who suffer because you love, love still mo...\n",
       "3      Voltaire  God is a comedian playing to an audience too a...\n",
       "4   John Lennon  Everything is going to be okay in the end, and..."
      ]
     },
     "execution_count": 12,
     "metadata": {},
     "output_type": "execute_result"
    }
   ],
   "source": [
    "quote_df = pd.read_csv(quote_if, names=['source','quote']).dropna()\n",
    "quote_df.head()"
   ]
  },
  {
   "cell_type": "code",
   "execution_count": null,
   "id": "c4084842",
   "metadata": {},
   "outputs": [],
   "source": []
  }
 ],
 "metadata": {
  "kernelspec": {
   "display_name": "Python 3 (ipykernel)",
   "language": "python",
   "name": "python3"
  },
  "language_info": {
   "codemirror_mode": {
    "name": "ipython",
    "version": 3
   },
   "file_extension": ".py",
   "mimetype": "text/x-python",
   "name": "python",
   "nbconvert_exporter": "python",
   "pygments_lexer": "ipython3",
   "version": "3.10.7"
  }
 },
 "nbformat": 4,
 "nbformat_minor": 5
}
